{
 "cells": [
  {
   "cell_type": "code",
   "execution_count": null,
   "id": "fc03931b-0e25-4f33-aa26-8bed9e9451ab",
   "metadata": {},
   "outputs": [],
   "source": [
    "### OOP lesson 1\n",
    "#.upper -> method -> acting on object of type X\n",
    "\n",
    "\n",
    "#class dog\n",
    "class Dog:\n",
    "    \n",
    "    #method 1 -> this method is run first\n",
    "    #self is a parameter of method\n",
    "    def __init__(self, name, age):\n",
    "        #attribute of Ob.\n",
    "        self.name = name\n",
    "        self.age = age\n",
    "    \n",
    "    #method 2\n",
    "    def get_name(self):\n",
    "        return self.name\n",
    "    \n",
    "    #method 3\n",
    "    def get_age(self):\n",
    "        return self.age\n",
    "\n",
    "    #method 4\n",
    "    def bark(self):\n",
    "        print(\"bark\")\n",
    "        \n",
    "    #method 5\n",
    "    def add_one(self,x):\n",
    "        return x + 1\n",
    "    \n",
    "    #method 6\n",
    "    def set_age(self, age):\n",
    "        self.age = age\n",
    "        \n",
    "#make d an object of class Dog\n",
    "d1 = Dog(\"Tim\", 10)\n",
    "d1.set_age(20)\n",
    "print(d1.get_age())"
   ]
  },
  {
   "cell_type": "code",
   "execution_count": null,
   "id": "f9d9e369-9f0e-4e2a-9c33-b176730eb98e",
   "metadata": {},
   "outputs": [],
   "source": [
    "### OOP lesson 2 (class inside a class)\n",
    "\n",
    "class Student:\n",
    "    \n",
    "    def __init__(self, name,age,grade):\n",
    "        self.name = name\n",
    "        self.age = age\n",
    "        self.grade = grade\n",
    "        \n",
    "    def get_grade(self):\n",
    "        return self.grade\n",
    "    \n",
    "\n",
    "    \n",
    "class Course:\n",
    "    \n",
    "    def __init__(self,name,max_students):\n",
    "        self.name = name\n",
    "        self.max_students = max_students\n",
    "        self.students = []\n",
    "        \n",
    "    def add_student(self, student):\n",
    "        if len(self.students) < self.max_students:\n",
    "            self.students.append(student)\n",
    "            return True\n",
    "        return False\n",
    "    \n",
    "    def get_average_grade(self):\n",
    "        value = 0\n",
    "        for student in self.students:\n",
    "            value += student.get_grade()\n",
    "        return value / len(self.students)\n",
    "    \n",
    "s1 = Student(\"Tim\",19,95)\n",
    "s2 = Student(\"Bill\",19,75)\n",
    "s3 = Student(\"Jill\",19,65)\n",
    "\n",
    "course = Course(\"Science\",2)\n",
    "course.add_student(s1)\n",
    "course.add_student(s2)\n",
    "print(course.add_student(s3))\n",
    "print(course.get_average_grade())"
   ]
  },
  {
   "cell_type": "code",
   "execution_count": 5,
   "id": "e0a70cf4-afb4-48fa-8935-64326728a336",
   "metadata": {},
   "outputs": [
    {
     "name": "stdout",
     "output_type": "stream",
     "text": [
      "I don't know what I say\n",
      "I am Tim and I am 19 years old\n",
      "Meow\n",
      "I am Bill and I am 34 years old and I am red colour\n",
      "Woof\n",
      "I am Jill and I am 24 years old\n",
      "I don't know what I say\n"
     ]
    }
   ],
   "source": [
    "### OOP lesson 3 (inheritance)\n",
    "\n",
    "#general class (PARENT)\n",
    "class Pet:\n",
    "    def __init__(self,name,age):\n",
    "        self.name = name\n",
    "        self.age = age\n",
    "        \n",
    "    def show(self):\n",
    "        print(f\"I am {self.name} and I am {self.age} years old\")\n",
    "        \n",
    "    def speak(self):\n",
    "        print(\"I don't know what I say\")\n",
    "\n",
    "#lower level specific class (CHILD)\n",
    "class Cat(Pet):\n",
    "    \n",
    "    #name and age are inheritted from PARENT\n",
    "    def __init__(self, name, age,colour):\n",
    "        #take data from PARENT\n",
    "        super().__init__(name,age)\n",
    "        self.colour = colour\n",
    "        \n",
    "    def speak(self):\n",
    "        print(\"Meow\")\n",
    "        \n",
    "    def show(self):\n",
    "        print(f\"I am {self.name} and I am {self.age} years old and I am {self.colour} colour\")\n",
    "\n",
    "#lower level specific class\n",
    "class Dog(Pet):   \n",
    "    def speak(self):\n",
    "        print(\"Woof\")     \n",
    "        \n",
    "#lower level specific class\n",
    "class Fish(Pet):   \n",
    "    pass\n",
    "        \n",
    "p = Pet(\"Tim\",19)\n",
    "p.speak()\n",
    "p.show()\n",
    "c = Cat(\"Bill\",34,'red')\n",
    "c.speak()\n",
    "c.show()\n",
    "d = Dog(\"Jill\",24)\n",
    "d.speak()\n",
    "d.show()\n",
    "e = Fish(\"bubble\",1)\n",
    "e.speak()"
   ]
  },
  {
   "cell_type": "code",
   "execution_count": 17,
   "id": "4dc674ab-8384-4a15-a7d3-c443adb3b5c9",
   "metadata": {},
   "outputs": [
    {
     "name": "stdout",
     "output_type": "stream",
     "text": [
      "2\n"
     ]
    }
   ],
   "source": [
    "### OOP lesson 4 class methods and attributes\n",
    "\n",
    "class Person:\n",
    "    #class attribute\n",
    "    number_of_people = 0\n",
    "    gravity = 9.81\n",
    "    \n",
    "    #normal method\n",
    "    def __init__(self,name):\n",
    "        self.name = name\n",
    "        Person.add_person()\n",
    "    \n",
    "    #class method\n",
    "    @classmethod\n",
    "    def number_of_people_(cls):\n",
    "        return cls.number_of_people\n",
    "    \n",
    "    @classmethod\n",
    "    def add_person(cls):\n",
    "        cls.number_of_people += 1\n",
    "    \n",
    "    \n",
    "        \n",
    "p1 = Person(\"tim\")\n",
    "p2 = Person(\"jill\")\n",
    "print(Person.number_of_people_())\n",
    "\n",
    "#print(p2.number_of_people)"
   ]
  },
  {
   "cell_type": "code",
   "execution_count": 19,
   "id": "480345da-faa2-42f4-8b64-d938eef29b33",
   "metadata": {},
   "outputs": [
    {
     "name": "stdout",
     "output_type": "stream",
     "text": [
      "10\n",
      "run\n"
     ]
    }
   ],
   "source": [
    "### OOP lesson 5 STATIC METHOD\n",
    "\n",
    "class Math:\n",
    "    \n",
    "    #acts as function inside a class\n",
    "    @staticmethod\n",
    "    def add5(x):\n",
    "        return x + 5\n",
    "    \n",
    "    @staticmethod\n",
    "    def add10(x):\n",
    "        return x + 10\n",
    "    \n",
    "    @staticmethod\n",
    "    def pr():\n",
    "        print(\"run\")\n",
    "    \n",
    "print(Math.add5(5))\n",
    "Math.pr()"
   ]
  },
  {
   "cell_type": "code",
   "execution_count": 4,
   "id": "1ae05212-0fca-4bf6-a9dd-e068f5b13aa4",
   "metadata": {},
   "outputs": [
    {
     "name": "stdout",
     "output_type": "stream",
     "text": [
      "2D heat equation solver\n"
     ]
    },
    {
     "name": "stderr",
     "output_type": "stream",
     "text": [
      "MovieWriter ffmpeg unavailable; using Pillow instead.\n"
     ]
    },
    {
     "name": "stdout",
     "output_type": "stream",
     "text": [
      "Done!\n"
     ]
    },
    {
     "data": {
      "image/png": "[encoded data removed]",
      "text/plain": [
       "<Figure size 432x288 with 2 Axes>"
      ]
     },
     "metadata": {
      "needs_background": "light"
     },
     "output_type": "display_data"
    }
   ],
   "source": [
    "import numpy as np\n",
    "import matplotlib.pyplot as plt\n",
    "import matplotlib.animation as animation\n",
    "from matplotlib.animation import FuncAnimation\n",
    "\n",
    "print(\"2D heat equation solver\")\n",
    "\n",
    "plate_length = 50\n",
    "max_iter_time = 750\n",
    "\n",
    "alpha = 170\n",
    "delta_x = 1\n",
    "\n",
    "delta_t = (delta_x ** 2)/(4 * alpha)\n",
    "gamma = (alpha * delta_t) / (delta_x ** 2)\n",
    "\n",
    "# Initialize solution: the grid of u(k, i, j)\n",
    "u = np.empty((max_iter_time, plate_length, plate_length))\n",
    "\n",
    "# Initial condition everywhere inside the grid\n",
    "u_initial = 0\n",
    "\n",
    "# Boundary conditions\n",
    "u_top = 100.0\n",
    "u_left = 0.0\n",
    "u_bottom = 0.0\n",
    "u_right = 0.0\n",
    "\n",
    "# Set the initial condition\n",
    "u.fill(u_initial)\n",
    "\n",
    "# Set the boundary conditions\n",
    "u[:, (plate_length-1):, :] = u_top\n",
    "u[:, :, :1] = u_left\n",
    "u[:, :1, 1:] = u_bottom\n",
    "u[:, :, (plate_length-1):] = u_right\n",
    "\n",
    "def calculate(u):\n",
    "    for k in range(0, max_iter_time-1, 1):\n",
    "        for i in range(1, plate_length-1, delta_x):\n",
    "            for j in range(1, plate_length-1, delta_x):\n",
    "                u[k + 1, i, j] = gamma * (u[k][i+1][j] + u[k][i-1][j] + u[k][i][j+1] + u[k][i][j-1] - 4*u[k][i][j]) + u[k][i][j]\n",
    "\n",
    "    return u\n",
    "\n",
    "def plotheatmap(u_k, k):\n",
    "    # Clear the current plot figure\n",
    "    plt.clf()\n",
    "\n",
    "    plt.title(f\"Temperature at t = {k*delta_t:.3f} unit time\")\n",
    "    plt.xlabel(\"x\")\n",
    "    plt.ylabel(\"y\")\n",
    "\n",
    "    # This is to plot u_k (u at time-step k)\n",
    "    plt.pcolormesh(u_k, cmap=plt.cm.jet, vmin=0, vmax=100)\n",
    "    plt.colorbar()\n",
    "\n",
    "    return plt\n",
    "\n",
    "# Do the calculation here\n",
    "u = calculate(u)\n",
    "\n",
    "def animate(k):\n",
    "    plotheatmap(u[k], k)\n",
    "\n",
    "anim = animation.FuncAnimation(plt.figure(), animate, interval=5, frames=max_iter_time, repeat=False)\n",
    "anim.save(\"heat_equation_solution.gif\")\n",
    "\n",
    "print(\"Done!\")"
   ]
  },
  {
   "cell_type": "code",
   "execution_count": null,
   "id": "af994dce-088a-492b-a168-7aabac7d0e59",
   "metadata": {},
   "outputs": [],
   "source": []
  }
 ],
 "metadata": {
  "kernelspec": {
   "display_name": "Python 3 (ipykernel)",
   "language": "python",
   "name": "python3"
  },
  "language_info": {
   "codemirror_mode": {
    "name": "ipython",
    "version": 3
   },
   "file_extension": ".py",
   "mimetype": "text/x-python",
   "name": "python",
   "nbconvert_exporter": "python",
   "pygments_lexer": "ipython3",
   "version": "3.8.10"
  }
 },
 "nbformat": 4,
 "nbformat_minor": 5
}
